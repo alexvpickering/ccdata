{
 "cells": [
  {
   "cell_type": "code",
   "execution_count": 2,
   "metadata": {
    "collapsed": false
   },
   "outputs": [
    {
     "name": "stdout",
     "output_type": "stream",
     "text": [
      "# Neural Network with 86451525 learnable parameters\n",
      "\n",
      "## Layer information\n",
      "\n",
      "  #  name       size\n",
      "---  -------  ------\n",
      "  0  input     23050\n",
      "  1  hidden     2500\n",
      "  2  dropout    2500\n",
      "  3  output    11525\n",
      "\n",
      "  epoch    train loss    valid loss    train/val  dur\n",
      "-------  ------------  ------------  -----------  -----\n",
      "      1       \u001b[36m0.48048\u001b[0m       \u001b[32m0.43163\u001b[0m      1.11318  0.11s\n",
      "1 loops, best of 3: 554 ms per loop\n"
     ]
    }
   ],
   "source": [
    "from __future__ import division\n",
    "import numpy as np\n",
    "from lasagne import layers\n",
    "from nolearn.lasagne import NeuralNet\n",
    "from lasagne.updates import  nesterov_momentum\n",
    "from lasagne.nonlinearities import very_leaky_rectify\n",
    "\n",
    "# random training data\n",
    "X_train = np.random.rand(257, 23050).astype('float32')\n",
    "y_train = np.random.rand(257, 11525).astype('float32')\n",
    "\n",
    "# train net1\n",
    "net1 = NeuralNet(\n",
    "    layers=[\n",
    "        ('input',   layers.InputLayer),\n",
    "        ('hidden',  layers.DenseLayer),\n",
    "        ('dropout', layers.DropoutLayer),\n",
    "        ('output',  layers.DenseLayer),\n",
    "        ],\n",
    "    # layer parameters:\n",
    "    input_shape         = (None, X_train.shape[1]),\n",
    "    dropout_p           = 0.2,\n",
    "    hidden_num_units    = 2500,\n",
    "    hidden_nonlinearity = very_leaky_rectify,\n",
    "    output_nonlinearity = None, \n",
    "    output_num_units    = y_train.shape[1],\n",
    "\n",
    "    # optimization method:\n",
    "    update                  = nesterov_momentum,\n",
    "    update_learning_rate    = 0.01,\n",
    "    update_momentum         = 0.9,\n",
    "    regression              = True, \n",
    "    max_epochs              = 1,\n",
    "    verbose                 = 1\n",
    "    )\n",
    "\n",
    "net1.fit(X_train, y_train)\n",
    "\n",
    "# random test data\n",
    "X_test = np.random.rand(4112, 23050).astype('float32')\n",
    "\n",
    "%timeit net1.predict(X_test)"
   ]
  },
  {
   "cell_type": "code",
   "execution_count": 24,
   "metadata": {
    "collapsed": true
   },
   "outputs": [],
   "source": [
    "X_test = np.random.rand(4112, 23050).astype('float32')"
   ]
  },
  {
   "cell_type": "code",
   "execution_count": 3,
   "metadata": {
    "collapsed": false,
    "scrolled": true
   },
   "outputs": [
    {
     "name": "stdout",
     "output_type": "stream",
     "text": [
      "1 loops, best of 3: 552 ms per loop\n"
     ]
    }
   ],
   "source": [
    "%timeit net1.predict(X_test)"
   ]
  },
  {
   "cell_type": "code",
   "execution_count": 17,
   "metadata": {
    "collapsed": true
   },
   "outputs": [],
   "source": [
    "# net1 parameters\n",
    "W1 = net1.get_all_params_values()['hidden'][0]\n",
    "W2 = net1.get_all_params_values()['output'][0]\n",
    "\n",
    "q1 = net1.get_all_params_values()['hidden'][1]\n",
    "q2 = net1.get_all_params_values()['output'][1]"
   ]
  },
  {
   "cell_type": "code",
   "execution_count": 5,
   "metadata": {
    "collapsed": false
   },
   "outputs": [
    {
     "name": "stdout",
     "output_type": "stream",
     "text": [
      "1 loops, best of 3: 2.71 s per loop\n"
     ]
    }
   ],
   "source": [
    "# predict function\n",
    "def pred(W1, W2, q1, q2, X):\n",
    "    z2 = np.dot(X, W1) + q1\n",
    "    a2 = np.maximum(z2/3, z2)\n",
    "    return np.dot(a2, W2) + q2\n",
    "\n",
    "# net1 parameters\n",
    "W1 = net1.get_all_params_values()['hidden'][0]\n",
    "W2 = net1.get_all_params_values()['output'][0]\n",
    "\n",
    "q1 = net1.get_all_params_values()['hidden'][1]\n",
    "q2 = net1.get_all_params_values()['output'][1]\n",
    "\n",
    "%timeit pred(W1, W2, q1, q2, X_test)"
   ]
  },
  {
   "cell_type": "code",
   "execution_count": 13,
   "metadata": {
    "collapsed": false
   },
   "outputs": [],
   "source": [
    "p2 = pred(W1, W2, q1, q2, X_test)"
   ]
  },
  {
   "cell_type": "code",
   "execution_count": 10,
   "metadata": {
    "collapsed": false
   },
   "outputs": [
    {
     "data": {
      "text/plain": [
       "(11525,)"
      ]
     },
     "execution_count": 10,
     "metadata": {},
     "output_type": "execute_result"
    }
   ],
   "source": [
    "q2.shape"
   ]
  },
  {
   "cell_type": "code",
   "execution_count": 18,
   "metadata": {
    "collapsed": false
   },
   "outputs": [
    {
     "name": "stdout",
     "output_type": "stream",
     "text": [
      "1 loops, best of 3: 2.7 s per loop\n"
     ]
    }
   ],
   "source": [
    "X_test = np.random.rand(4112, 23050).astype('float32')\n",
    "\n",
    "%timeit pred(W1, W2, q1, q2, X_test)"
   ]
  },
  {
   "cell_type": "code",
   "execution_count": 19,
   "metadata": {
    "collapsed": false
   },
   "outputs": [
    {
     "name": "stdout",
     "output_type": "stream",
     "text": [
      "1 loops, best of 3: 5.58 s per loop\n"
     ]
    }
   ],
   "source": [
    "X_test = np.random.rand(4112, 23050).astype('float64')\n",
    "\n",
    "%timeit pred(W1, W2, q1, q2, X_test)"
   ]
  },
  {
   "cell_type": "code",
   "execution_count": 13,
   "metadata": {
    "collapsed": false
   },
   "outputs": [
    {
     "name": "stdout",
     "output_type": "stream",
     "text": [
      "1 loops, best of 3: 4.96 s per loop\n"
     ]
    }
   ],
   "source": [
    "%timeit pred(W1, W2, q1, q2, X_test)"
   ]
  }
 ],
 "metadata": {
  "kernelspec": {
   "display_name": "Python 2",
   "language": "python",
   "name": "python2"
  },
  "language_info": {
   "codemirror_mode": {
    "name": "ipython",
    "version": 2
   },
   "file_extension": ".py",
   "mimetype": "text/x-python",
   "name": "python",
   "nbconvert_exporter": "python",
   "pygments_lexer": "ipython2",
   "version": "2.7.11"
  }
 },
 "nbformat": 4,
 "nbformat_minor": 0
}
